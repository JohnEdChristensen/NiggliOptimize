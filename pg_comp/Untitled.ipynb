{
 "cells": [
  {
   "cell_type": "code",
   "execution_count": 5,
   "metadata": {},
   "outputs": [
    {
     "name": "stdout",
     "output_type": "stream",
     "text": [
      "('simple monoclinic', 35, 6, array([[ 1.      ,  1.61803 , -0.668912],\n",
      "       [ 1.      , -0.618034,  1.96676 ],\n",
      "       [ 1.      , -1.      , -1.29785 ]]))\n",
      "a1 = {1,1,1}\n",
      "a2 = {1.61803,-0.618034,-1}\n",
      "a3 = {-0.668912,1.96676,-1.29785}\n",
      "x11 = {-1,-1};\n",
      "x12 = {0,0};\n",
      "x13 = {0,0};\n",
      "x21 = {0,0};\n",
      "x22 = {-1,1};\n",
      "x23 = {0,0};\n",
      "x31 = {0,0};\n",
      "x32 = {0,0};\n",
      "x33 = {-1,1};\n",
      "\n"
     ]
    }
   ],
   "source": [
    "import math_mat_code_gen as gen\n",
    "from opf_python import niggli_lat_id\n",
    "import numpy\n",
    "m = [[[1,1,1],[1.61803,-0.618034,-1],[-0.668912,1.96676,-1.29785]]]\n",
    "\n",
    "for e in m:\n",
    "    print niggli_lat_id.niggli_id(numpy.transpose(e))\n",
    "    print gen.gen_mat_code(e)"
   ]
  },
  {
   "cell_type": "code",
   "execution_count": 6,
   "metadata": {},
   "outputs": [
    {
     "name": "stdout",
     "output_type": "stream",
     "text": [
      "('base centered monoclinic', 39, 6, array([[ 0.      , -1.      ,  1.66542 ],\n",
      "       [ 1.73205 ,  0.      ,  0.672857],\n",
      "       [ 1.      , -1.      , -1.66542 ]]))\n",
      "\n",
      "a1 = {0.0,-1.73205,-1.0}\n",
      "a2 = {-1.66542,-0.672857,1.66542}\n",
      "a3 = {1,0,1}\n",
      "\n",
      "x11 = {-1,-1};\n",
      "x12 = {0,0};\n",
      "x13 = {0,0};\n",
      "x21 = {0,0};\n",
      "x22 = {-1,-1};\n",
      "x23 = {0,0};\n",
      "x31 = {-1,0};\n",
      "x32 = {0,0};\n",
      "x33 = {1,-1};\n",
      "\n",
      "-------------------------------------------------------------------------\n",
      "('base centered monoclinic', 37, 6, array([[-1.79092 ,  1.      ,  1.      ],\n",
      "       [-1.47209 ,  0.      , -1.41421 ],\n",
      "       [ 0.790922,  1.      , -1.      ]]))\n",
      "\n",
      "a1 = {-1.79092,-1.47209,0.790922}\n",
      "a2 = {1.0,-1.41421,-1.0}\n",
      "a3 = {1.0,0.0,1.0}\n",
      "\n",
      "x11 = {-1,-1};\n",
      "x12 = {0,0};\n",
      "x13 = {0,0};\n",
      "x21 = {0,0};\n",
      "x22 = {-1,-1};\n",
      "x23 = {0,0};\n",
      "x31 = {-1,0};\n",
      "x32 = {0,0};\n",
      "x33 = {1,-1};\n",
      "\n"
     ]
    }
   ],
   "source": [
    "from math_mat_code_gen import *\n",
    "from opf_python import niggli_lat_id\n",
    "import numpy\n",
    "\n",
    "basis = [[ 0.  , -1.73205 , -1.  ],[-1.66542, -0.672857, 1.66542], [1,0,1]]\n",
    "label = \"n37_mC\"\n",
    "print niggli_lat_id.niggli_id(numpy.transpose(basis))\n",
    "print\n",
    "print format_basis(basis)\n",
    "print format_pg(generate_pg(basis))\n",
    "\n",
    "equivalentBasis = find_equivalent_basis(basis, label)\n",
    "print \"-------------------------------------------------------------------------\"\n",
    "#if equivalentBasis[0][0] == 0:\n",
    "   # print \"No Equivalent Basis Found\"\n",
    "#else:\n",
    "print niggli_lat_id.niggli_id(numpy.transpose(equivalentBasis))\n",
    "print\n",
    "print format_basis(equivalentBasis)\n",
    "print format_pg(generate_pg(equivalentBasis))"
   ]
  },
  {
   "cell_type": "code",
   "execution_count": null,
   "metadata": {},
   "outputs": [],
   "source": []
  },
  {
   "cell_type": "code",
   "execution_count": null,
   "metadata": {},
   "outputs": [],
   "source": []
  }
 ],
 "metadata": {
  "kernelspec": {
   "display_name": "Python 2",
   "language": "python",
   "name": "python2"
  },
  "language_info": {
   "codemirror_mode": {
    "name": "ipython",
    "version": 2
   },
   "file_extension": ".py",
   "mimetype": "text/x-python",
   "name": "python",
   "nbconvert_exporter": "python",
   "pygments_lexer": "ipython2",
   "version": "2.7.12"
  }
 },
 "nbformat": 4,
 "nbformat_minor": 2
}
